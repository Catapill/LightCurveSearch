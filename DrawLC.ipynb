{
 "cells": [
  {
   "cell_type": "code",
   "execution_count": 1,
   "metadata": {},
   "outputs": [],
   "source": [
    "#Imports\n",
    "from tkinter import *\n",
    "from PIL import ImageDraw\n",
    "import PIL"
   ]
  },
  {
   "cell_type": "code",
   "execution_count": 2,
   "metadata": {},
   "outputs": [],
   "source": [
    "#Save Function\n",
    "def save():\n",
    "    filename = \"image.png\"\n",
    "    image1.save(filename)\n",
    "  \n",
    "#Paint Function\n",
    "def paint( event ):\n",
    "   #python_green = \"#476042\"\n",
    "   x1, y1 = ( event.x - 1 ), ( event.y - 1 )\n",
    "   x2, y2 = ( event.x + 1 ), ( event.y + 1 )\n",
    "   cv.create_oval(x1, y1, x2, y2, fill = \"black\", width=5 )\n",
    "   draw.line([x1, y1, x2, y2], fill=\"black\", width=5)"
   ]
  },
  {
   "cell_type": "code",
   "execution_count": 3,
   "metadata": {},
   "outputs": [],
   "source": [
    "#Canvas settings\n",
    "width = 1000\n",
    "height = 500\n",
    "center = height//2\n",
    "white = (255, 255, 255)\n",
    "green = (0, 255, 0)"
   ]
  },
  {
   "cell_type": "code",
   "execution_count": 14,
   "metadata": {},
   "outputs": [],
   "source": [
    "root = Tk()\n",
    "\n",
    "cv = Canvas(root, width=width, height= height, bg=\"white\")\n",
    "cv.pack()\n",
    "\n",
    "image1 = PIL.Image.new(\"RGB\", (width, height), white)\n",
    "draw = ImageDraw.Draw(image1)\n",
    "\n",
    "cv.pack(expand=YES, fill=BOTH)\n",
    "cv.bind(\"<B1-Motion>\", paint)\n",
    "\n",
    "button=Button(text=\"save\",command=save)\n",
    "button.pack()\n",
    "\n",
    "root.mainloop()"
   ]
  },
  {
   "cell_type": "code",
   "execution_count": null,
   "metadata": {},
   "outputs": [],
   "source": []
  }
 ],
 "metadata": {
  "kernelspec": {
   "display_name": "Python 3",
   "language": "python",
   "name": "python3"
  },
  "language_info": {
   "codemirror_mode": {
    "name": "ipython",
    "version": 3
   },
   "file_extension": ".py",
   "mimetype": "text/x-python",
   "name": "python",
   "nbconvert_exporter": "python",
   "pygments_lexer": "ipython3",
   "version": "3.6.9"
  }
 },
 "nbformat": 4,
 "nbformat_minor": 2
}
