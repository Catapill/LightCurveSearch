{
 "cells": [
  {
   "cell_type": "code",
   "execution_count": 1,
   "metadata": {},
   "outputs": [],
   "source": [
    "#Imports\n",
    "import matplotlib.pyplot as plt\n",
    "import pandas as pd\n",
    "from matplotlib.image import imread\n",
    "import numpy as np\n",
    "from operator import itemgetter\n",
    "from csv import writer"
   ]
  },
  {
   "cell_type": "code",
   "execution_count": 75,
   "metadata": {},
   "outputs": [],
   "source": [
    "#Loads data\n",
    "img = imread('image.png')\n",
    "df = pd.read_csv('data/local_data.csv', sep=',', header=None)\n",
    "\n",
    "y = df[0]\n",
    "label = df[1]\n",
    "x = df.drop([0, 1, 2], axis=1)"
   ]
  },
  {
   "cell_type": "code",
   "execution_count": 76,
   "metadata": {},
   "outputs": [],
   "source": [
    "#Converts image to array of numbers\n",
    "def image_convert(img):\n",
    "    lat = []\n",
    "    grey = img[:,:,1]\n",
    "    \n",
    "    lat = 0\n",
    "    lat_array = []\n",
    "    for col in grey.T:\n",
    "        lat = len(grey)\n",
    "        temp_arr = []\n",
    "        for i in col:\n",
    "            lat -= 1\n",
    "            if i == 0:\n",
    "                temp_arr.append(lat)\n",
    "        if temp_arr:\n",
    "            num = sum(temp_arr) / len(temp_arr)\n",
    "            lat_array.append(num)\n",
    "    return lat_array"
   ]
  },
  {
   "cell_type": "code",
   "execution_count": 77,
   "metadata": {},
   "outputs": [],
   "source": [
    "#Fits LC into 200 dataa points (local view)\n",
    "def data_fit(data, fit=200):\n",
    "    div = len(data) / fit\n",
    "    result = pd.Series(data)\n",
    "    smoothed = result.groupby(result.index // div).mean()\n",
    "    normalized = (smoothed-min(smoothed))/(max(smoothed)-min(smoothed))\n",
    "    \n",
    "    plt.figure(figsize=(10,5))\n",
    "    plt.plot(normalized)\n",
    "    plt.show()\n",
    "    return normalized"
   ]
  },
  {
   "cell_type": "code",
   "execution_count": 78,
   "metadata": {},
   "outputs": [],
   "source": [
    "#Calculates euclidean distance\n",
    "def euclidean_distance(target):\n",
    "    target = np.array(target)\n",
    "    dist = []\n",
    "    for i, row in x.iterrows():\n",
    "        a = target\n",
    "        b = row\n",
    "        dist.append(np.linalg.norm(a-b))\n",
    "    return dist"
   ]
  },
  {
   "cell_type": "code",
   "execution_count": 79,
   "metadata": {},
   "outputs": [
    {
     "data": {
      "image/png": "[encoded data removed]",
      "text/plain": [
       "<Figure size 720x360 with 1 Axes>"
      ]
     },
     "metadata": {
      "needs_background": "light"
     },
     "output_type": "display_data"
    }
   ],
   "source": [
    "#Gets best LC from euclidean distance\n",
    "data = image_convert(img)\n",
    "final = data_fit(data)\n",
    "\n",
    "#outputs input LC \n",
    "with open('test_data.csv', 'a+', newline='') as write_obj:\n",
    "        # Create a writer object from csv module\n",
    "        csv_writer = writer(write_obj)\n",
    "        # Add contents of list as last row in the csv file\n",
    "        csv_writer.writerow(final)"
   ]
  },
  {
   "cell_type": "code",
   "execution_count": null,
   "metadata": {},
   "outputs": [],
   "source": []
  },
  {
   "cell_type": "code",
   "execution_count": null,
   "metadata": {},
   "outputs": [],
   "source": []
  }
 ],
 "metadata": {
  "kernelspec": {
   "display_name": "Python 3",
   "language": "python",
   "name": "python3"
  },
  "language_info": {
   "codemirror_mode": {
    "name": "ipython",
    "version": 3
   },
   "file_extension": ".py",
   "mimetype": "text/x-python",
   "name": "python",
   "nbconvert_exporter": "python",
   "pygments_lexer": "ipython3",
   "version": "3.6.9"
  }
 },
 "nbformat": 4,
 "nbformat_minor": 2
}
