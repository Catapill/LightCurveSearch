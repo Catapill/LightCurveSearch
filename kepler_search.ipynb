{
 "cells": [
  {
   "cell_type": "code",
   "execution_count": 80,
   "metadata": {},
   "outputs": [],
   "source": [
    "#Imports\n",
    "import pandas as pd\n",
    "import numpy as np\n",
    "import plotly.express as px\n",
    "import plotly.graph_objects as go\n",
    "import matplotlib.pyplot as plt\n",
    "from operator import itemgetter\n",
    "from csv import writer"
   ]
  },
  {
   "cell_type": "code",
   "execution_count": 98,
   "metadata": {},
   "outputs": [],
   "source": [
    "target = 11358392"
   ]
  },
  {
   "cell_type": "code",
   "execution_count": 99,
   "metadata": {},
   "outputs": [],
   "source": [
    "df = pd.read_csv('data/local_data.csv', sep=',', header=None)\n",
    "kepdf = pd.read_csv('data/kepinfo.csv', sep=',', header=0)\n",
    "dfid = df[0]\n",
    "kepid = kepdf[\"kepid\"]\n",
    "koiname = kepdf[\"kepoi_name\"]\n",
    "kepname = kepdf[\"kepler_name\"]\n",
    "ra = kepdf[\"ra\"]\n",
    "dec = kepdf[\"dec\"]"
   ]
  },
  {
   "cell_type": "code",
   "execution_count": 100,
   "metadata": {
    "scrolled": true
   },
   "outputs": [
    {
     "data": {
      "text/plain": [
       "'\\ncross = []\\nfor x in range(len(dfid)):\\n    found = False\\n    for y in range(len(kepid)):\\n        if dfid[x] == kepid[y]:\\n            found = True\\n    if found == False:\\n        df = df.drop(x)\\n        print(\"dropped\", x)\\n        \\nprint(df)\\n'"
      ]
     },
     "execution_count": 100,
     "metadata": {},
     "output_type": "execute_result"
    }
   ],
   "source": [
    "\"\"\"\n",
    "cross = []\n",
    "for x in range(len(dfid)):\n",
    "    found = False\n",
    "    for y in range(len(kepid)):\n",
    "        if dfid[x] == kepid[y]:\n",
    "            found = True\n",
    "    if found == False:\n",
    "        df = df.drop(x)\n",
    "        print(\"dropped\", x)\n",
    "        \n",
    "print(df)\n",
    "\"\"\""
   ]
  },
  {
   "cell_type": "code",
   "execution_count": 101,
   "metadata": {},
   "outputs": [
    {
     "data": {
      "text/plain": [
       "\"\\nwith open('local_reduced.csv', 'a+', newline='') as write_obj:\\n    # Create a writer object from csv module\\n    csv_writer = writer(write_obj)\\n    for i, row in df.iterrows():\\n        csv_writer.writerow(row)\\n\""
      ]
     },
     "execution_count": 101,
     "metadata": {},
     "output_type": "execute_result"
    }
   ],
   "source": [
    "\"\"\"\n",
    "with open('local_reduced.csv', 'a+', newline='') as write_obj:\n",
    "    # Create a writer object from csv module\n",
    "    csv_writer = writer(write_obj)\n",
    "    for i, row in df.iterrows():\n",
    "        csv_writer.writerow(row)\n",
    "\"\"\""
   ]
  },
  {
   "cell_type": "code",
   "execution_count": 102,
   "metadata": {},
   "outputs": [
    {
     "name": "stdout",
     "output_type": "stream",
     "text": [
      "K07440.01 nan\n"
     ]
    }
   ],
   "source": [
    "found = False\n",
    "for i in range(len(kepid)):\n",
    "    if kepid[i] == target:\n",
    "        found = True\n",
    "        target_koiname = koiname[i]\n",
    "        target_kepname = kepname[i]\n",
    "        print(target_koiname, target_kepname)\n",
    "if found == False:\n",
    "    print(\"target not found\")\n"
   ]
  },
  {
   "cell_type": "code",
   "execution_count": 103,
   "metadata": {},
   "outputs": [
    {
     "name": "stdout",
     "output_type": "stream",
     "text": [
      "https://exoplanetarchive.ipac.caltech.edu/overview/K07440.01\n"
     ]
    }
   ],
   "source": [
    "link = \"https://exoplanetarchive.ipac.caltech.edu/overview/\" + target_koiname\n",
    "print(link)"
   ]
  },
  {
   "cell_type": "code",
   "execution_count": null,
   "metadata": {},
   "outputs": [],
   "source": [
    "with open('local_reduced.csv', 'a+', newline='') as write_obj:\n",
    "    # Create a writer object from csv module\n",
    "    csv_writer = writer(write_obj)\n",
    "    for i, row in df.iterrows():\n",
    "        csv_writer.writerow(row)"
   ]
  }
 ],
 "metadata": {
  "kernelspec": {
   "display_name": "Python 3",
   "language": "python",
   "name": "python3"
  },
  "language_info": {
   "codemirror_mode": {
    "name": "ipython",
    "version": 3
   },
   "file_extension": ".py",
   "mimetype": "text/x-python",
   "name": "python",
   "nbconvert_exporter": "python",
   "pygments_lexer": "ipython3",
   "version": "3.6.9"
  }
 },
 "nbformat": 4,
 "nbformat_minor": 2
}
